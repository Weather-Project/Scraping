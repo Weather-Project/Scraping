{
 "cells": [
  {
   "cell_type": "code",
   "execution_count": null,
   "metadata": {},
   "outputs": [],
   "source": [
    "import requests as req\n",
    "from bs4 import BeautifulSoup as soup\n",
    "from requests import Session as ses\n",
    "import random\n",
    "from requests.exceptions import ProxyError"
   ]
  },
  {
   "cell_type": "code",
   "execution_count": null,
   "metadata": {},
   "outputs": [],
   "source": [
    "hlist=['Mozilla/5.0 (Windows NT 10.0; Win64; x64)','AppleWebKit/537.36 (KHTML, like Gecko)','Chrome/83.0.4103.116','Safari/537.36']"
   ]
  },
  {
   "cell_type": "code",
   "execution_count": null,
   "metadata": {},
   "outputs": [],
   "source": [
    "url=\"https://www.monster.com/jobs/search?cy=AU\"\n",
    "headers={'User-Agent':random.choice(hlist)}\n",
    "response=req.get(url,headers=headers)"
   ]
  },
  {
   "cell_type": "code",
   "execution_count": null,
   "metadata": {},
   "outputs": [],
   "source": [
    "def get_proxies():\n",
    "    r=req.get(\"https://free-proxy-list.net/\")\n",
    "    s=soup(r.text,'lxml')\n",
    "    table=s.select_one(\"table\").select(\"tr\")\n",
    "    host_list=[]\n",
    "    for row in table:\n",
    "        try:\n",
    "            tds=row.select(\"td\")\n",
    "            ip=tds[0].text.strip()\n",
    "            port=tds[1].text.strip()\n",
    "            host=f'{ip}:{port}'\n",
    "            host_list.append(host)\n",
    "        except:\n",
    "            continue\n",
    "    return host_list"
   ]
  },
  {
   "cell_type": "code",
   "execution_count": null,
   "metadata": {},
   "outputs": [],
   "source": [
    "def get_session(proxy,headers):\n",
    "    header={'User-Agent':random.choice(headers)}\n",
    "    session=ses()\n",
    "    session.proxies={'http':proxy,'https':proxy}\n",
    "    return session"
   ]
  },
  {
   "cell_type": "code",
   "execution_count": null,
   "metadata": {},
   "outputs": [],
   "source": [
    "proxies=get_proxies()[0:10]\n",
    "for i in range(0,10):\n",
    "    proxy=proxies[i]\n",
    "    with get_session(proxy,hlist) as s:\n",
    "        try:\n",
    "            print(\"Start \",i)\n",
    "            print(\"Page requested with IP:\",s.get(\"http://icanhazip.com\",verify=False,stream=True).text.strip())\n",
    "        except ProxyError as p:\n",
    "            print(s.proxies,\" Proxy not working\")"
   ]
  },
  {
   "cell_type": "code",
   "execution_count": null,
   "metadata": {},
   "outputs": [],
   "source": [
    "proxies=get_proxies()"
   ]
  },
  {
   "cell_type": "code",
   "execution_count": null,
   "metadata": {},
   "outputs": [],
   "source": [
    "len(proxies)"
   ]
  },
  {
   "cell_type": "code",
   "execution_count": null,
   "metadata": {},
   "outputs": [],
   "source": [
    "r=req.get(\"https://free-proxy-list.net/\")\n",
    "s=soup(r.text,'lxml')\n",
    "table=s.select_one(\"table\").select(\"tr\")[:20]\n",
    "host_list=[]\n",
    "for row in table:\n",
    "    try:\n",
    "        tds=row.select(\"td\")\n",
    "        ip=tds[0].text.strip()\n",
    "        port=tds[1].text.strip()\n",
    "        host=f'{ip}:{port}'\n",
    "        host_list.append(host)\n",
    "    except:\n",
    "        continue\n",
    "vproxies=[]\n",
    "i=0\n",
    "ses=req.Session()\n",
    "while i<5:\n",
    "    try:\n",
    "        ses.proxies={'http':host_list[i],'https':host_list[i]}\n",
    "        print(ses.get(url=\"http://icanhazip.com\",verify=False,stream=True).text.strip())\n",
    "        vproxies.append(host_list[i])\n",
    "        print(ses.proxies,f\"working & added {i+1} to verified list\")\n",
    "    except ProxyError:\n",
    "        i=i+1\n",
    "        continue\n",
    "    i=i+1\n",
    "print(vproxies)"
   ]
  },
  {
   "cell_type": "code",
   "execution_count": null,
   "metadata": {},
   "outputs": [],
   "source": [
    "def get_vproxies(count):\n",
    "    r=req.get(\"https://free-proxy-list.net/\")\n",
    "    s=soup(r.text,'lxml')\n",
    "    table=s.select_one(\"table\").select(\"tr\")[:20]\n",
    "    host_list=[]\n",
    "    for row in table:\n",
    "        try:\n",
    "            tds=row.select(\"td\")\n",
    "            ip=tds[0].text.strip()\n",
    "            port=tds[1].text.strip()\n",
    "            host=f'{ip}:{port}'\n",
    "            host_list.append(host)\n",
    "        except:\n",
    "            continue\n",
    "    vproxies=[]\n",
    "    i=0\n",
    "    ses=req.Session()\n",
    "    while len(vproxies)<count:\n",
    "        try:\n",
    "            ses.proxies={'http':host_list[i],'https':host_list[i]}\n",
    "            print(ses.get(url=\"http://icanhazip.com\",verify=False).text.strip())\n",
    "            vproxies.append(host_list[i])\n",
    "            print(ses.proxies,f\"working & added {i+1} to verified list\")\n",
    "        except ProxyError:\n",
    "            i=i+1\n",
    "            continue\n",
    "        i=i+1\n",
    "    return(vproxies)"
   ]
  },
  {
   "cell_type": "code",
   "execution_count": null,
   "metadata": {},
   "outputs": [],
   "source": [
    "get_vproxies(5)"
   ]
  },
  {
   "cell_type": "code",
   "execution_count": null,
   "metadata": {},
   "outputs": [],
   "source": [
    "s=req.Session()"
   ]
  },
  {
   "cell_type": "code",
   "execution_count": null,
   "metadata": {},
   "outputs": [],
   "source": [
    "req.get(\"http://icanhazip.com\",proxies={'http': '51.15.240.87:3128'}).text.strip()"
   ]
  },
  {
   "cell_type": "code",
   "execution_count": null,
   "metadata": {},
   "outputs": [],
   "source": []
  }
 ],
 "metadata": {
  "kernelspec": {
   "display_name": "Python 3",
   "language": "python",
   "name": "python3"
  },
  "language_info": {
   "codemirror_mode": {
    "name": "ipython",
    "version": 3
   },
   "file_extension": ".py",
   "mimetype": "text/x-python",
   "name": "python",
   "nbconvert_exporter": "python",
   "pygments_lexer": "ipython3",
   "version": "3.7.3"
  }
 },
 "nbformat": 4,
 "nbformat_minor": 2
}
