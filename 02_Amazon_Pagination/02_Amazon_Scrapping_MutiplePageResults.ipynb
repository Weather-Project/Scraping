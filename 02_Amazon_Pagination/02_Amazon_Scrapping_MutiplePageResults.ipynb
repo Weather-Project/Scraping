{
 "cells": [
  {
   "cell_type": "code",
   "execution_count": null,
   "metadata": {},
   "outputs": [],
   "source": [
    "#Libraries\n",
    "import requests as req\n",
    "from bs4 import BeautifulSoup as bs\n",
    "import pandas as pd\n",
    "import re"
   ]
  },
  {
   "cell_type": "code",
   "execution_count": null,
   "metadata": {},
   "outputs": [],
   "source": [
    "#Input URL link and define headers for requests\n",
    "header={\"content-type\":\"text\"}\n",
    "headers = {\"User-Agent\":\"Mozilla/5.0 (Windows NT 10.0; Win64;     x64; rv:66.0) Gecko/20100101 Firefox/66.0\", \"Accept-Encoding\":\"gzip, deflate\",     \"Accept\":\"text/html,application/xhtml+xml,application/xml;q=0.9,*/*;q=0.8\", \"DNT\":\"1\",\"Connection\":\"close\", \"Upgrade-Insecure-Requests\":\"1\"}\n",
    "url=\"https://www.amazon.in/s?k=samsung+smartphones\"\n",
    "page_count=2\n",
    "url_list=[url]"
   ]
  },
  {
   "cell_type": "code",
   "execution_count": null,
   "metadata": {},
   "outputs": [],
   "source": [
    "#create list of urls for each page\n",
    "list1=[''.join([url,\"&page=\",str(i)]) for i in range(2,page_count+1)]\n",
    "url_list.extend(list1)\n",
    "url_list"
   ]
  },
  {
   "cell_type": "code",
   "execution_count": null,
   "metadata": {},
   "outputs": [],
   "source": [
    "#function to get soup of url\n",
    "def get_soup(links):\n",
    "    global headers\n",
    "    page=req.get(links,headers=headers)\n",
    "    status_code=page.status_code\n",
    "    soup=bs(page.text,'lxml')\n",
    "    return status_code,soup"
   ]
  },
  {
   "cell_type": "code",
   "execution_count": null,
   "metadata": {},
   "outputs": [],
   "source": [
    "#Initializing lists to store scrapped data\n",
    "product_ids=[]\n",
    "product_name=[]\n",
    "prices=[]\n",
    "ratings=[]\n",
    "customer_reviews=[]"
   ]
  },
  {
   "cell_type": "code",
   "execution_count": null,
   "metadata": {},
   "outputs": [],
   "source": [
    "#function to extract page data\n",
    "def extract_page_data(soup):\n",
    "    global product_name\n",
    "    global prices\n",
    "    global ratings\n",
    "    global customer_reviews\n",
    "    for item in soup.select(\"div[class='sg-col-4-of-12 sg-col-8-of-16 sg-col-16-of-24 sg-col-12-of-20 sg-col-24-of-32 sg-col sg-col-28-of-36 sg-col-20-of-28']\"):\n",
    "        #extract product_name\n",
    "        product_name.append(item.select_one(\"h2 span\").get_text())\n",
    "        #extract prices\n",
    "        try:\n",
    "            prices.append(item.find('span',class_=\"a-price-whole\").get_text())\n",
    "        except:\n",
    "            prices.append(\"NaN\")\n",
    "        #extract ratings\n",
    "        try:\n",
    "            ratings.append(item.find('span',class_=\"a-icon-alt\").get_text())\n",
    "        except:\n",
    "            ratings.append(\"NaN\")\n",
    "        try:\n",
    "            customer_reviews.append(item.select_one('div[class=\"a-row a-size-small\"] span[class=\"a-size-base\"]').get_text())\n",
    "        except:\n",
    "            customer_reviews.append(\"NaN\")"
   ]
  },
  {
   "cell_type": "code",
   "execution_count": null,
   "metadata": {},
   "outputs": [],
   "source": [
    "#extract all page data\n",
    "for page_url in url_list:\n",
    "    get_soup\n",
    "    stats_code,soup=get_soup(page_url)\n",
    "    if stats_code!=200:\n",
    "        print(\"Url request blocked\")\n",
    "        break\n",
    "    else:\n",
    "        extract_page_data(soup)"
   ]
  },
  {
   "cell_type": "code",
   "execution_count": null,
   "metadata": {},
   "outputs": [],
   "source": [
    "#extracted data to dataframe\n",
    "df=pd.DataFrame({'Prod_Name':product_name,'Price':prices,'Ratings':ratings,'No.of Cust Reviews':customer_reviews})\n",
    "df.head()"
   ]
  }
 ],
 "metadata": {
  "kernelspec": {
   "display_name": "Python 3",
   "language": "python",
   "name": "python3"
  },
  "language_info": {
   "codemirror_mode": {
    "name": "ipython",
    "version": 3
   },
   "file_extension": ".py",
   "mimetype": "text/x-python",
   "name": "python",
   "nbconvert_exporter": "python",
   "pygments_lexer": "ipython3",
   "version": "3.7.3"
  }
 },
 "nbformat": 4,
 "nbformat_minor": 2
}
