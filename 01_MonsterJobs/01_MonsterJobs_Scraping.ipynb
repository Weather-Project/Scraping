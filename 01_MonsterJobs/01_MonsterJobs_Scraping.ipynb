{
 "cells": [
  {
   "cell_type": "markdown",
   "metadata": {},
   "source": [
    "**Extract Jobs From Monster using Beautiful Soup**"
   ]
  },
  {
   "cell_type": "code",
   "execution_count": null,
   "metadata": {
    "scrolled": true
   },
   "outputs": [],
   "source": [
    "#Import libraries\n",
    "import requests as req\n",
    "from bs4 import BeautifulSoup as bs\n",
    "import pandas as pd\n",
    "import pdfkit as pdf\n",
    "import pyodbc\n",
    "import sqlalchemy\n",
    "import urllib"
   ]
  },
  {
   "cell_type": "code",
   "execution_count": null,
   "metadata": {
    "scrolled": true
   },
   "outputs": [],
   "source": [
    "page=req.get(\"https://www.monster.com/jobs/search?q=&sort=rv&vw=b&re=14&brd=1&cy=AU\")\n",
    "page"
   ]
  },
  {
   "cell_type": "code",
   "execution_count": null,
   "metadata": {},
   "outputs": [],
   "source": [
    "soup=bs(page.content,'html.parser')"
   ]
  },
  {
   "cell_type": "code",
   "execution_count": null,
   "metadata": {
    "scrolled": false
   },
   "outputs": [],
   "source": [
    "#Looping through the tree to get the data as lists\n",
    "jobs=[i.get_text() for i in soup.select(\".summary .card-header .title\")]\n",
    "companies=[i.get_text() for i in soup.select(\".summary .company \")]\n",
    "locations=[i.get_text() for i in soup.select(\".summary .location\")]\n",
    "links=[i['href'] for i in soup.select(\".summary a\")]"
   ]
  },
  {
   "cell_type": "code",
   "execution_count": null,
   "metadata": {
    "scrolled": true
   },
   "outputs": [],
   "source": [
    "#converting to dataframes & data cleanup\n",
    "mnstr_au_jobs=pd.DataFrame({\"Job\":jobs,\"Company\":companies,\"Location\":locations,\"Links\":links})\n",
    "mnstr_au_jobs.replace(['\\n','\\r'],'',regex=True,inplace=True)\n",
    "mnstr_au_jobs.head(20)"
   ]
  },
  {
   "cell_type": "markdown",
   "metadata": {},
   "source": [
    "**Exporting extracted data to various formats**"
   ]
  },
  {
   "cell_type": "code",
   "execution_count": null,
   "metadata": {},
   "outputs": [],
   "source": [
    "#01_to CSV format\n",
    "mnstr_au_jobs.to_csv(r\"C:\\Users\\Sabeesh\\Desktop\\WFH_Python\\01_Training\\06102020\\mnstr_au_jobs.csv\")"
   ]
  },
  {
   "cell_type": "code",
   "execution_count": null,
   "metadata": {},
   "outputs": [],
   "source": [
    "#02 To Excel \n",
    "mnstr_au_jobs.to_excel(r\"C:\\Users\\Sabeesh\\Desktop\\WFH_Python\\01_Training\\06102020\\mnstr_au_jobs.xlsx\")"
   ]
  },
  {
   "cell_type": "code",
   "execution_count": null,
   "metadata": {},
   "outputs": [],
   "source": [
    "#03_To_HTML\n",
    "mnstr_au_jobs.to_html(r\"C:\\Users\\Sabeesh\\Desktop\\WFH_Python\\01_Training\\06102020\\mnstr_au_jobs.html\")"
   ]
  },
  {
   "cell_type": "code",
   "execution_count": null,
   "metadata": {},
   "outputs": [],
   "source": [
    "#04_To_MySql_Database\n",
    "#params=pyodbc.connect('Driver={SQL Server};SERVER=LAPTOP-PI6VNN85\\SQLEXPRESS;DATABASE=UK_HR_Jobs;Trusted_connection=True')\n",
    "#cursor = conn.cursor()\n",
    "params = urllib.parse.quote_plus(\"DRIVER={SQL Server};SERVER=LAPTOP-PI6VNN85\\SQLEXPRESS;DATABASE=UK_HR_Jobs;Trusted_connection=True\")\n",
    "engine = sqlalchemy.create_engine(\"mssql+pyodbc:///?odbc_connect=%s\" % params)\n",
    "\n",
    "mnstr_au_jobs.to_sql('mnstr_au_jobs', con=engine, if_exists='replace', index=False)"
   ]
  },
  {
   "cell_type": "code",
   "execution_count": null,
   "metadata": {},
   "outputs": [],
   "source": [
    "#05_To_PDF\n",
    "html_file=r\"C:\\Users\\Sabeesh\\Desktop\\WFH_Python\\01_Training\\06102020\\mnstr_au_jobs.html\"\n",
    "pdf_file=r\"C:\\Users\\Sabeesh\\Desktop\\WFH_Python\\01_Training\\06102020\\mnstr_au_jobs1.pdf\"\n",
    "path_wkhtmltopdf = r'C:\\Program Files\\wkhtmltopdf\\bin\\wkhtmltopdf.exe'\n",
    "config = pdf.configuration(wkhtmltopdf=path_wkhtmltopdf)\n",
    "pdf.from_file(html_file,pdf_file,configuration=config)"
   ]
  }
 ],
 "metadata": {
  "kernelspec": {
   "display_name": "Python 3",
   "language": "python",
   "name": "python3"
  },
  "language_info": {
   "codemirror_mode": {
    "name": "ipython",
    "version": 3
   },
   "file_extension": ".py",
   "mimetype": "text/x-python",
   "name": "python",
   "nbconvert_exporter": "python",
   "pygments_lexer": "ipython3",
   "version": "3.7.3"
  }
 },
 "nbformat": 4,
 "nbformat_minor": 2
}
